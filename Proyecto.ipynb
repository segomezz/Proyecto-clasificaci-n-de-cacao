{
 "cells": [
  {
   "cell_type": "markdown",
   "metadata": {},
   "source": [
    "---\n",
    "**<h1><center> </center></h1>**\n",
    "\n",
    "**<h1><center> Proyecto: Clasificación de etapa de maduración del cacao </center></h1>**\n",
    "\n",
    "**<h2><center> Visión Artificial - 2024-2</center></h2>**\n",
    "\n",
    "<center><img src=\"https://upload.wikimedia.org/wikipedia/commons/c/c4/Escudo_unal_2016.png\" width=\"100\"></center>\n",
    "\n",
    "---\n",
    "<center>\n",
    "\n",
    "<h1> Integrantes: </h1>\n",
    "\n",
    "\n",
    "Sebastian Gomez Zapata: segomezz@unal.edu.co\n",
    "\n",
    "Harrison Zuleta Montoya : hzuletam@unal.edu.co\n",
    "\n",
    "Mateo Sanchez : matsanchez@unal.edu.co\n",
    "\n",
    "Isaac Luna Herrera : ilunah@unal.edu.co\n",
    "\n",
    "David Castrillón Vallejo : dacastrillon@unal.edu.co\n",
    "\n",
    "\n",
    "\n",
    "</center>"
   ]
  },
  {
   "cell_type": "markdown",
   "metadata": {},
   "source": [
    "## Referencias\n",
    "1. Zenodo. (2023). *RipSetCocoaCNCH12: Labeled Dataset for Ripeness Stage Detection, Semantic and Instance Segmentation of Cocoa Pods*. Zenodo. [https://zenodo.org/records/7968315](https://zenodo.org/records/7968315)\n",
    "\n",
    "2. MDPI. (2023). *RipSetCocoaCNCH12 Dataset*. *Journal of Imaging*, 8(6), 112. [https://www.mdpi.com/2306-5729/8/6/112](https://www.mdpi.com/2306-5729/8/6/112)"
   ]
  },
  {
   "cell_type": "markdown",
   "metadata": {},
   "source": [
    "## Contexto del problema"
   ]
  },
  {
   "cell_type": "markdown",
   "metadata": {},
   "source": [
    "El cacao es uno de los cultivos más importantes a nivel mundial, tanto por su valor económico como por su rol cultural y social, especialmente en países tropicales donde es una fuente vital de ingresos para millones de agricultores. Este cultivo es la base para la producción de chocolate, un producto ampliamente consumido globalmente. Sin embargo, el proceso de cosecha del cacao enfrenta varios desafíos, uno de los cuales es determinar el momento adecuado para recolectar los frutos. Si los frutos se cosechan demasiado temprano o demasiado tarde, pueden perder calidad, lo que afecta el sabor, el rendimiento y, en última instancia, la rentabilidad del cultivo. La falta de automatización en la clasificación de la maduración del cacao obliga a los agricultores a depender de métodos manuales, que son lentos, propensos a errores humanos y requieren una gran cantidad de mano de obra. Este enfoque tradicional no solo reduce la eficiencia, sino que también aumenta el riesgo de cosechar frutos en la etapa incorrecta, lo que puede generar pérdidas económicas significativas y afectar la calidad del grano.\n",
    "\n",
    "En este contexto, generar un modelo de visión artificial para predecir el nivel de maduración del fruto de cacao se vuelve fundamental para optimizar los procesos agrícolas y mejorar la calidad del cacao producido. Este modelo permitiría automatizar la clasificación de los frutos en sus diferentes etapas de maduración, lo que facilitaría la cosecha en el momento óptimo. Un manejo adecuado de la cosecha es esencial para garantizar la calidad del grano y maximizar los rendimientos. Además, al automatizar este proceso, se reduce el error humano y se incrementa la eficiencia en el campo, permitiendo a los agricultores tomar decisiones más precisas y basadas en datos. Esto no solo mejoraría la productividad, sino que también contribuiría a la sostenibilidad del cultivo, ya que se podrían reducir desperdicios y pérdidas de cosechas no maduras o sobre-maduras."
   ]
  },
  {
   "cell_type": "markdown",
   "metadata": {},
   "source": [
    "## Procedimiento Empleado"
   ]
  },
  {
   "cell_type": "markdown",
   "metadata": {},
   "source": []
  },
  {
   "cell_type": "markdown",
   "metadata": {},
   "source": [
    "## Análisis de dataset"
   ]
  },
  {
   "cell_type": "markdown",
   "metadata": {},
   "source": []
  }
 ],
 "metadata": {
  "language_info": {
   "name": "python"
  }
 },
 "nbformat": 4,
 "nbformat_minor": 2
}
