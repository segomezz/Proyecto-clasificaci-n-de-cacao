{
  "nbformat": 4,
  "nbformat_minor": 0,
  "metadata": {
    "colab": {
      "provenance": [],
      "mount_file_id": "1PtjwgtJJq8DrI33doOxXkgV6sqIMQCPK",
      "authorship_tag": "ABX9TyOPgI+d6OdN1P3Sn9E0o1CK",
      "include_colab_link": true
    },
    "kernelspec": {
      "name": "python3",
      "display_name": "Python 3"
    },
    "language_info": {
      "name": "python"
    }
  },
  "cells": [
    {
      "cell_type": "markdown",
      "metadata": {
        "id": "view-in-github",
        "colab_type": "text"
      },
      "source": [
        "<a href=\"https://colab.research.google.com/github/segomezz/Proyecto-clasificacion-de-cacao/blob/Sebastian/Clasificaci%C3%B3n_del_cacao.ipynb\" target=\"_parent\"><img src=\"https://colab.research.google.com/assets/colab-badge.svg\" alt=\"Open In Colab\"/></a>"
      ]
    },
    {
      "cell_type": "markdown",
      "source": [
        "---\n",
        "**<h1><center> </center></h1>**\n",
        "\n",
        "**<h1><center> Proyecto: Clasificación de etapa de maduración del cacao </center></h1>**\n",
        "\n",
        "**<h2><center> Visión Artificial - 2024-2</center></h2>**\n",
        "\n",
        "<center><img src=\"https://upload.wikimedia.org/wikipedia/commons/c/c4/Escudo_unal_2016.png\" width=\"100\"></center>\n",
        "\n",
        "---\n",
        "<center>\n",
        "\n",
        "<h1> Integrantes: </h1>\n",
        "\n",
        "\n",
        "Sebastian Gomez Zapata: segomezz@unal.edu.co\n",
        "\n",
        "Harrison Zuleta Montoya : hzuletam@unal.edu.co\n",
        "\n",
        "Mateo Sanchez : matsanchez@unal.edu.co\n",
        "\n",
        "Isaac Luna Herrera : ilunah@unal.edu.co\n",
        "\n",
        "David Castrillón Vallejo : dacastrillon@unal.edu.co\n",
        "\n",
        "\n",
        "\n",
        "</center>"
      ],
      "metadata": {
        "id": "xVxTBOy2bRP7"
      }
    },
    {
      "cell_type": "markdown",
      "source": [
        "# Contexto del problema"
      ],
      "metadata": {
        "id": "BZJEG73Dbj32"
      }
    },
    {
      "cell_type": "markdown",
      "source": [
        "El cacao es uno de los cultivos más importantes a nivel mundial, tanto por su valor económico como por su rol cultural y social, especialmente en países tropicales donde es una fuente vital de ingresos para millones de agricultores. Este cultivo es la base para la producción de chocolate, un producto ampliamente consumido globalmente. Sin embargo, el proceso de cosecha del cacao enfrenta varios desafíos, uno de los cuales es determinar el momento adecuado para recolectar los frutos. Si los frutos se cosechan demasiado temprano o demasiado tarde, pueden perder calidad, lo que afecta el sabor, el rendimiento y, en última instancia, la rentabilidad del cultivo. La falta de automatización en la clasificación de la maduración del cacao obliga a los agricultores a depender de métodos manuales, que son lentos, propensos a errores humanos y requieren una gran cantidad de mano de obra. Este enfoque tradicional no solo reduce la eficiencia, sino que también aumenta el riesgo de cosechar frutos en la etapa incorrecta, lo que puede generar pérdidas económicas significativas y afectar la calidad del grano.\n",
        "\n",
        "En este contexto, generar un modelo de visión artificial para predecir el nivel de maduración del fruto de cacao se vuelve fundamental para optimizar los procesos agrícolas y mejorar la calidad del cacao producido. Este modelo permitiría automatizar la clasificación de los frutos en sus diferentes etapas de maduración, lo que facilitaría la cosecha en el momento óptimo. Un manejo adecuado de la cosecha es esencial para garantizar la calidad del grano y maximizar los rendimientos. Además, al automatizar este proceso, se reduce el error humano y se incrementa la eficiencia en el campo, permitiendo a los agricultores tomar decisiones más precisas y basadas en datos. Esto no solo mejoraría la productividad, sino que también contribuiría a la sostenibilidad del cultivo, ya que se podrían reducir desperdicios y pérdidas de cosechas no maduras o sobre-maduras."
      ],
      "metadata": {
        "id": "0Z7JcxkubweO"
      }
    },
    {
      "cell_type": "markdown",
      "source": [
        "# Procedimiento Empleado"
      ],
      "metadata": {
        "id": "Osq36waeb2L7"
      }
    },
    {
      "cell_type": "markdown",
      "source": [
        "## Importación de librerías"
      ],
      "metadata": {
        "id": "MUXCXOeRV7e2"
      }
    },
    {
      "cell_type": "markdown",
      "source": [
        "Como primer paso se comenzará con todas la importación de todas las librerías necesarias para el proyecto"
      ],
      "metadata": {
        "id": "OsfOn22pV_BD"
      }
    },
    {
      "cell_type": "code",
      "source": [
        "import os\n",
        "import random\n",
        "from PIL import Image\n",
        "import matplotlib.pyplot as plt"
      ],
      "metadata": {
        "id": "VR3Ka-SVWGZF"
      },
      "execution_count": 28,
      "outputs": []
    },
    {
      "cell_type": "markdown",
      "source": [
        "## Análisis de dataset"
      ],
      "metadata": {
        "id": "J74KKT6FsKYL"
      }
    },
    {
      "cell_type": "markdown",
      "source": [
        "El dataset RipSetCocoaCNCH12 fue desarrollado por la Compañía Nacional de Chocolates y recopila imágenes de la variedad de cacao CNCH12 en la finca de la compañía ubicada en el municipio de Támesis, Antioquia, Colombia (5°43′02″ N, 75°41′25″ W), a una altitud promedio de 1100 m. Las imágenes fueron tomadas durante la principal temporada de cosecha, entre el 1 de diciembre de 2022 y el 17 de febrero de 2023.\n",
        "\n",
        "El período promedio de maduración de las mazorcas de cacao es de 6 a 7 meses, aunque puede variar según las condiciones agronómicas y climáticas. Los agrónomos definieron las etapas de madurez en rangos de dos meses, basándose en diferencias físicas y químicas. Las imágenes se clasificaron en cinco clases según la madurez de las mazorcas:\n",
        "\n",
        "1.\tClase 1 (0–2 meses)\n",
        "2.\tClase 2 (2–4 meses)\n",
        "3.\tClase 3 (4–6 meses)\n",
        "4.\tClase 4 (>6 meses)\n",
        "5.\tClase A (Abortos): Mazorcas que iniciaron su crecimiento pero murieron por plagas, enfermedades o problemas fisiológicos.\n",
        "\n",
        "El dataset contiene dos carpetas principales:\n",
        "1.\tAnotaciones en formato COCO 1.0.\n",
        "2.\tImágenes en formato de máscara de segmentación 1.1.\n",
        "\n",
        "Las imágenes están organizadas en subcarpetas por clase predominante, aunque una imagen puede contener instancias de varias clases.\n",
        "\n",
        "Finalmente se puede observar en esta tabla el número de clases.\n",
        "\n",
        "| Clase | Nombre de clase           | Instancias |\n",
        "|-------|-----------------------|-----------|\n",
        "| C1    | Clase 1 (0–2 meses)  | 3278      |\n",
        "| C2    | Clase 2 (2–4 meses)  | 1688      |\n",
        "| C3    | Clase 3 (4–6 meses)  | 1519      |\n",
        "| C4    | Clase (>6 meses) | 1169   |\n",
        "| CA    | Abortos             | 263       |\n",
        "| **Total** |                   | **7917**  |"
      ],
      "metadata": {
        "id": "fR9H9Z9oa73x"
      }
    },
    {
      "cell_type": "markdown",
      "source": [
        "El dataset ocupa un espacio de 27 gb por lo cual se hará una copia en google drive para acceder desde ahí, el archivo se llama Dataset y está en formato .zip"
      ],
      "metadata": {
        "id": "JWISZLzqsOny"
      }
    },
    {
      "cell_type": "code",
      "source": [
        "\n",
        "from google.colab import drive\n",
        "drive.mount('/content/drive')\n"
      ],
      "metadata": {
        "colab": {
          "base_uri": "https://localhost:8080/"
        },
        "id": "mSWOxxjiSwR2",
        "outputId": "ff1c2ecf-f29c-412c-8c4b-2e44875079ae"
      },
      "execution_count": 29,
      "outputs": [
        {
          "output_type": "stream",
          "name": "stdout",
          "text": [
            "Drive already mounted at /content/drive; to attempt to forcibly remount, call drive.mount(\"/content/drive\", force_remount=True).\n"
          ]
        }
      ]
    },
    {
      "cell_type": "markdown",
      "source": [
        "* Ahora se procede a descomprimir el dataset"
      ],
      "metadata": {
        "id": "tP9oED6SVOCE"
      }
    },
    {
      "cell_type": "code",
      "source": [
        "unzip_dir = '/content/drive/My Drive/Dataset'\n",
        "\n",
        "\n",
        "\n",
        "# Listar todas las imágenes en la carpeta descomprimida\n",
        "image_extensions = ('.jpg', '.jpeg', '.png')\n",
        "image_files = [os.path.join(dp, f) for dp, dn, filenames in os.walk(unzip_dir)\n",
        "               for f in filenames if f.lower().endswith(image_extensions)]\n",
        "\n",
        "# Verificar si se encontraron imágenes\n",
        "if not image_files:\n",
        "    print(\"No se encontraron imágenes en el archivo descomprimido.\")\n",
        "else:\n",
        "    # Seleccionar una imagen aleatoria\n",
        "    random_image_path = random.choice(image_files)\n",
        "    print(f\"Mostrando imagen aleatoria: {random_image_path}\")\n",
        "\n",
        "    # Mostrar la imagen\n",
        "    image = Image.open(random_image_path)\n",
        "    plt.imshow(image)\n",
        "    plt.axis('off')\n",
        "    plt.show()"
      ],
      "metadata": {
        "colab": {
          "base_uri": "https://localhost:8080/",
          "height": 444
        },
        "id": "0o1gGGBQVM9D",
        "outputId": "e199a10b-9513-4aa8-daa8-13d453c7027a"
      },
      "execution_count": 30,
      "outputs": [
        {
          "output_type": "stream",
          "name": "stdout",
          "text": [
            "Mostrando imagen aleatoria: /content/drive/My Drive/Dataset/RipSetCocoaCNCH12/Segmentation_mask_11/SegmentationObject_C2/20221227_083318.png\n"
          ]
        },
        {
          "output_type": "display_data",
          "data": {
            "text/plain": [
              "<Figure size 640x480 with 1 Axes>"
            ],
            "image/png": "[encoded data removed]"
          },
          "metadata": {}
        }
      ]
    },
    {
      "cell_type": "code",
      "source": [
        "!git config --global user.name \"segomezz\"\n",
        "!git config --global user.email \"segomezz@unal.edu.co\""
      ],
      "metadata": {
        "id": "pJlAlOOXdSWX"
      },
      "execution_count": 31,
      "outputs": []
    },
    {
      "cell_type": "code",
      "source": [
        "!git clone https://github.com/segomezz/Proyecto-clasificacion-de-cacao.git"
      ],
      "metadata": {
        "colab": {
          "base_uri": "https://localhost:8080/"
        },
        "id": "rZ53YvUmfVIm",
        "outputId": "c1852b2b-7d62-41fc-eade-d728ecdb370e"
      },
      "execution_count": 32,
      "outputs": [
        {
          "output_type": "stream",
          "name": "stdout",
          "text": [
            "Cloning into 'Proyecto-clasificacion-de-cacao'...\n",
            "remote: Enumerating objects: 13, done.\u001b[K\n",
            "remote: Counting objects:   7% (1/13)\u001b[K\rremote: Counting objects:  15% (2/13)\u001b[K\rremote: Counting objects:  23% (3/13)\u001b[K\rremote: Counting objects:  30% (4/13)\u001b[K\rremote: Counting objects:  38% (5/13)\u001b[K\rremote: Counting objects:  46% (6/13)\u001b[K\rremote: Counting objects:  53% (7/13)\u001b[K\rremote: Counting objects:  61% (8/13)\u001b[K\rremote: Counting objects:  69% (9/13)\u001b[K\rremote: Counting objects:  76% (10/13)\u001b[K\rremote: Counting objects:  84% (11/13)\u001b[K\rremote: Counting objects:  92% (12/13)\u001b[K\rremote: Counting objects: 100% (13/13)\u001b[K\rremote: Counting objects: 100% (13/13), done.\u001b[K\n",
            "remote: Compressing objects:   9% (1/11)\u001b[K\rremote: Compressing objects:  18% (2/11)\u001b[K\rremote: Compressing objects:  27% (3/11)\u001b[K\rremote: Compressing objects:  36% (4/11)\u001b[K\rremote: Compressing objects:  45% (5/11)\u001b[K\rremote: Compressing objects:  54% (6/11)\u001b[K\rremote: Compressing objects:  63% (7/11)\u001b[K\rremote: Compressing objects:  72% (8/11)\u001b[K\rremote: Compressing objects:  81% (9/11)\u001b[K\rremote: Compressing objects:  90% (10/11)\u001b[K\rremote: Compressing objects: 100% (11/11)\u001b[K\rremote: Compressing objects: 100% (11/11), done.\u001b[K\n",
            "remote: Total 13 (delta 2), reused 4 (delta 0), pack-reused 0 (from 0)\u001b[K\n",
            "Receiving objects:   7% (1/13)\rReceiving objects:  15% (2/13)\rReceiving objects:  23% (3/13)\rReceiving objects:  30% (4/13)\rReceiving objects:  38% (5/13)\rReceiving objects:  46% (6/13)\rReceiving objects:  53% (7/13)\rReceiving objects:  61% (8/13)\rReceiving objects:  69% (9/13)\rReceiving objects:  76% (10/13)\rReceiving objects:  84% (11/13)\rReceiving objects:  92% (12/13)\rReceiving objects: 100% (13/13)\rReceiving objects: 100% (13/13), 4.83 KiB | 4.83 MiB/s, done.\n",
            "Resolving deltas:   0% (0/2)\rResolving deltas:  50% (1/2)\rResolving deltas: 100% (2/2)\rResolving deltas: 100% (2/2), done.\n"
          ]
        }
      ]
    },
    {
      "cell_type": "code",
      "source": [
        "%cd Proyecto-clasificacion-de-cacao"
      ],
      "metadata": {
        "colab": {
          "base_uri": "https://localhost:8080/"
        },
        "id": "PBpEEVdu7-mB",
        "outputId": "a9ec2243-4932-4bc8-d4bd-0431880ec2d5"
      },
      "execution_count": 33,
      "outputs": [
        {
          "output_type": "stream",
          "name": "stdout",
          "text": [
            "/content/Proyecto-clasificacion-de-cacao/Proyecto-clasificacion-de-cacao/Proyecto-clasificacion-de-cacao\n"
          ]
        }
      ]
    },
    {
      "cell_type": "code",
      "source": [
        "!pwd\n"
      ],
      "metadata": {
        "colab": {
          "base_uri": "https://localhost:8080/"
        },
        "id": "k0z3HyEu8GnD",
        "outputId": "4c45ff41-2f4f-4602-974b-9a36ad3ab4cd"
      },
      "execution_count": 34,
      "outputs": [
        {
          "output_type": "stream",
          "name": "stdout",
          "text": [
            "/content/Proyecto-clasificacion-de-cacao/Proyecto-clasificacion-de-cacao/Proyecto-clasificacion-de-cacao\n"
          ]
        }
      ]
    },
    {
      "cell_type": "code",
      "source": [
        "!git checkout Sebastian"
      ],
      "metadata": {
        "colab": {
          "base_uri": "https://localhost:8080/"
        },
        "id": "8jmRhbJz8_zJ",
        "outputId": "480733eb-b789-4d89-c9c3-9c171831f968"
      },
      "execution_count": 35,
      "outputs": [
        {
          "output_type": "stream",
          "name": "stdout",
          "text": [
            "Branch 'Sebastian' set up to track remote branch 'Sebastian' from 'origin'.\n",
            "Switched to a new branch 'Sebastian'\n"
          ]
        }
      ]
    },
    {
      "cell_type": "code",
      "source": [
        "!git config --global user.name \"segomezz\"\n",
        "!git config --global user.email \"segomezz@unal.edu.co\""
      ],
      "metadata": {
        "id": "1Ikw_8oW9Kk-"
      },
      "execution_count": 36,
      "outputs": []
    },
    {
      "cell_type": "code",
      "source": [
        "!ls"
      ],
      "metadata": {
        "colab": {
          "base_uri": "https://localhost:8080/"
        },
        "id": "BQ25n2G694Vo",
        "outputId": "44f00df7-d2ff-4a65-ece4-59ed6f7fe3bf"
      },
      "execution_count": 37,
      "outputs": [
        {
          "output_type": "stream",
          "name": "stdout",
          "text": [
            "Proyecto.ipynb\tREADME.md\n"
          ]
        }
      ]
    },
    {
      "cell_type": "code",
      "source": [
        "!git status"
      ],
      "metadata": {
        "colab": {
          "base_uri": "https://localhost:8080/"
        },
        "id": "L1DRAnjS_REJ",
        "outputId": "43b0ea78-1b1c-4598-f248-4c44506e7731"
      },
      "execution_count": 39,
      "outputs": [
        {
          "output_type": "stream",
          "name": "stdout",
          "text": [
            "On branch Sebastian\n",
            "Your branch is up to date with 'origin/Sebastian'.\n",
            "\n",
            "nothing to commit, working tree clean\n"
          ]
        }
      ]
    },
    {
      "cell_type": "markdown",
      "source": [
        "# Referencias\n",
        "1. Zenodo. (2023). *RipSetCocoaCNCH12: Labeled Dataset for Ripeness Stage Detection, Semantic and Instance Segmentation of Cocoa Pods*. Zenodo. [https://zenodo.org/records/7968315](https://zenodo.org/records/7968315)\n",
        "\n",
        "2. MDPI. (2023). *RipSetCocoaCNCH12 Dataset*. *Journal of Imaging*, 8(6), 112. [https://www.mdpi.com/2306-5729/8/6/112](https://www.mdpi.com/2306-5729/8/6/112)"
      ],
      "metadata": {
        "id": "322NL6MrWUjQ"
      }
    }
  ]
}